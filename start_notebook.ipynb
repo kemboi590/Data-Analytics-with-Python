{
 "cells": [
  {
   "cell_type": "code",
   "execution_count": 2,
   "metadata": {},
   "outputs": [
    {
     "name": "stdout",
     "output_type": "stream",
     "text": [
      "Hello World\n"
     ]
    }
   ],
   "source": [
    "print(\"Hello World\")"
   ]
  },
  {
   "cell_type": "markdown",
   "metadata": {},
   "source": [
    "# Learning how to use Jupeter notebooks\n",
    "\n",
    "1. I love python programming\n",
    "2. It is the popular language so far\n",
    "3. AI is the new era\n",
    "\n",
    "- This is a note like _take it easy_\n",
    "- Taking notes is important\n",
    "\n",
    "*This is a bold*\n",
    "**More bolder**\n",
    "[this a clickable link](\"https:www.google.com\")\n"
   ]
  },
  {
   "cell_type": "code",
   "execution_count": 3,
   "metadata": {},
   "outputs": [
    {
     "name": "stdout",
     "output_type": "stream",
     "text": [
      "Hello Kitty\n"
     ]
    }
   ],
   "source": [
    "print(\"Hello Kitty\")"
   ]
  },
  {
   "cell_type": "code",
   "execution_count": 4,
   "metadata": {},
   "outputs": [
    {
     "name": "stdout",
     "output_type": "stream",
     "text": [
      "You are doing great Kemboi\n"
     ]
    }
   ],
   "source": [
    "name = \"Kemboi\"\n",
    "print(f\"You are doing great {name}\")"
   ]
  },
  {
   "cell_type": "code",
   "execution_count": 5,
   "metadata": {},
   "outputs": [
    {
     "name": "stdout",
     "output_type": "stream",
     "text": [
      "You are doing great again Kemboi\n"
     ]
    }
   ],
   "source": [
    "print(f\"You are doing great again {name}\")"
   ]
  }
 ],
 "metadata": {
  "kernelspec": {
   "display_name": "Python 3",
   "language": "python",
   "name": "python3"
  },
  "language_info": {
   "codemirror_mode": {
    "name": "ipython",
    "version": 3
   },
   "file_extension": ".py",
   "mimetype": "text/x-python",
   "name": "python",
   "nbconvert_exporter": "python",
   "pygments_lexer": "ipython3",
   "version": "3.11.9"
  }
 },
 "nbformat": 4,
 "nbformat_minor": 2
}
