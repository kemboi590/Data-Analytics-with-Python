{
 "cells": [
  {
   "cell_type": "code",
   "execution_count": null,
   "metadata": {},
   "outputs": [],
   "source": [
    "import numpy as np # type: ignore\n",
    "\n",
    "a1D = np.array([1, 2, 3, 4, 5])\n",
    "# 2d array\n",
    "a2D = np.array([[1, 2], [3, 4], [5, 6]])\n",
    "# 3d array\n",
    "a3D = np.array([[[1, 2], [3, 4]], [[5, 6], [7, 8]]]) "
   ]
  },
  {
   "cell_type": "code",
   "execution_count": 15,
   "metadata": {},
   "outputs": [
    {
     "name": "stdout",
     "output_type": "stream",
     "text": [
      "[2 3 4]\n",
      "Summation: [5 7 9]\n",
      "Ärray reshaped: [[1 2]\n",
      " [3 4]\n",
      " [5 6]\n",
      " [7 8]]\n",
      "concatenated array: [1 2 3 4 5 6]\n"
     ]
    }
   ],
   "source": [
    "import numpy as np\n",
    "arr_1d = np.array([1, 2, 3, 4, 5,6,7,8])\n",
    "arr_2d = np.array([[1, 2, 3], [4, 5, 6], [7, 8, 9]])\n",
    "\n",
    "# slicing 1d array\n",
    "print(arr_1d[1:4])\n",
    "\n",
    "# aritmetic operations\n",
    "arr1 = np.array([1,2,3])\t\n",
    "arr2 = np.array([4,5,6])\n",
    "\n",
    "print(f\"Summation: {arr1 + arr2}\")\n",
    "\n",
    "# reshaping arrays\n",
    "arr_reshape = arr_1d.reshape(4,2) # means that we want to reshape the array to 2 rows and 4 columns\n",
    "print(f\"Ärray reshaped: {arr_reshape}\")\n",
    "\n",
    "# concatenating arrays\n",
    "arr_concat = np.concatenate((arr1, arr2))\n",
    "print(f\"concatenated array: {arr_concat}\")"
   ]
  },
  {
   "cell_type": "code",
   "execution_count": 18,
   "metadata": {},
   "outputs": [
    {
     "name": "stdout",
     "output_type": "stream",
     "text": [
      "Mean: 2.0\n",
      "Median: 2.0\n",
      "Standard deviation: 0.816496580927726\n"
     ]
    }
   ],
   "source": [
    "# arithmetic operations\n",
    "arr1 = np.array([1,2,3])\n",
    "arr2 = np.array([4,5,6])\n",
    "\n",
    "# basic statistics\n",
    "print(f\"Mean: {np.mean(arr1)}\") #means the average of the array computed as (1+2+3)/3 = 2\n",
    "print(f\"Median: {np.median(arr1)}\") # the median is the middle value of the array when it is sorted in ascending order\n",
    "print(f\"Standard deviation: {np.std(arr1)}\") # the standard deviation is the square root of the variance, variance is calculated as the average of the squared differences from the Mean\n",
    "# i.e (1-2)^2 + (2-2)^2 + (3-2)^2 = 2/3  sd = sqrt(2/3) = 0.816496580927726"
   ]
  },
  {
   "cell_type": "code",
   "execution_count": 21,
   "metadata": {},
   "outputs": [
    {
     "name": "stdout",
     "output_type": "stream",
     "text": [
      "Exponential: [ 2.71828183  7.3890561  20.08553692]\n",
      "Square root: [1.         1.41421356 1.73205081]\n"
     ]
    }
   ],
   "source": [
    "# elemtn wise operations\n",
    "arr_exp = np.exp(arr1) #calculates as e^1, e^2, e^3\n",
    "print(f\"Exponential: {arr_exp}\")\n",
    "arr_sqrt = np.sqrt(arr1) # calculates the square root of each element in the array ie sqrt(1), sqrt(2), sqrt(3)\n",
    "print(f\"Square root: {arr_sqrt}\")"
   ]
  },
  {
   "cell_type": "code",
   "execution_count": 22,
   "metadata": {},
   "outputs": [
    {
     "name": "stdout",
     "output_type": "stream",
     "text": [
      "[50, 50, 47, 97, 49, 3, 53, 42, 26, 74, 82, 62, 37, 15, 70, 27, 36, 35, 48, 52, 63, 64]\n"
     ]
    }
   ],
   "source": [
    "data = [50,50,47,97,49,3,53,42,26,74,82,62,37,15,70,27,36,35,48,52,63,64]\n",
    "print(data)"
   ]
  },
  {
   "cell_type": "code",
   "execution_count": 31,
   "metadata": {},
   "outputs": [
    {
     "name": "stdout",
     "output_type": "stream",
     "text": [
      "Student grades: [50 50 47 97 49  3 53 42 26 74 82 62 37 15 70 27 36 35 48 52 63 64]\n",
      "Shape of the array: (22,)\n",
      "mean: 49.18181818181818\n",
      "median: 49.5\n",
      "standard deviation: 21.238122592161233\n",
      "Minimum: 3\n",
      "Maximum: 97\n",
      "25th percentile: 36.25\n"
     ]
    }
   ],
   "source": [
    "import numpy as np\n",
    "grades = np.array(data) #convert the list to a numpy array\n",
    "print(f\"Student grades: {grades}\")\n",
    "print(f\"Shape of the array: {grades.shape}\") #returns the shape of the array\n",
    "# basic statistics\n",
    "print(f\"mean: {np.mean(grades)}\")\n",
    "print(f\"median: {np.median(grades)}\")\n",
    "print(f\"standard deviation: {np.std(grades)}\")\n",
    "print(f\"Minimum: {np.min(grades)}\")\n",
    "print(f\"Maximum: {np.max(grades)}\")\n",
    "print(f\"25th percentile: {np.percentile(grades, 25)}\")\n",
    "print(f\"The variance: {np.var(grades,axis=0)}\") "
   ]
  },
  {
   "cell_type": "code",
   "execution_count": 37,
   "metadata": {},
   "outputs": [
    {
     "name": "stdout",
     "output_type": "stream",
     "text": [
      "Students data: [[10.   11.5   9.   16.    9.25  1.   11.5   9.    8.5  14.5  15.5  13.75\n",
      "   9.    8.   15.5   8.    9.    6.   10.   12.   12.5  12.  ]\n",
      " [50.   50.   47.   97.   49.    3.   53.   42.   26.   74.   82.   62.\n",
      "  37.   15.   70.   27.   36.   35.   48.   52.   63.   64.  ]]\n",
      "Shape of student data: (2, 22)\n",
      "First element: 10.0\n"
     ]
    }
   ],
   "source": [
    "# Define an array of study hours\n",
    "study_hours = [10.0,11.5,9.0,16.0,9.25,1.0,11.5,9.0,8.5,14.5,15.5,\n",
    "               13.75,9.0,8.0,15.5,8.0,9.0,6.0,10.0,12.0,12.5,12.0]\n",
    "\n",
    "# create 2d array\n",
    "student_data = np.array([study_hours, grades])\n",
    "\n",
    "# display info\n",
    "print(f\"Students data: {student_data}\")\n",
    "\n",
    "# shape\n",
    "print(f\"Shape of student data: {student_data.shape}\")\n",
    "# show 1st element\n",
    "print(f\"First element: {student_data[0][0]}\")"
   ]
  },
  {
   "cell_type": "code",
   "execution_count": 41,
   "metadata": {},
   "outputs": [
    {
     "name": "stdout",
     "output_type": "stream",
     "text": [
      "Average study hours: 10.522727272727273\n",
      "Average grade: 49.18181818181818\n"
     ]
    }
   ],
   "source": [
    "# statistics\n",
    "avg_study = student_data[0].mean()\n",
    "avg_grade = student_data[1].mean()\n",
    "print(f\"Average study hours: {avg_study}\\nAverage grade: {avg_grade}\")"
   ]
  },
  {
   "cell_type": "code",
   "execution_count": 46,
   "metadata": {},
   "outputs": [
    {
     "name": "stdout",
     "output_type": "stream",
     "text": [
      "         Name  StudyHours  Grade\n",
      "0         Dan       10.00   50.0\n",
      "1       Joann       11.50   50.0\n",
      "2       Pedro        9.00   47.0\n",
      "3       Rosie       16.00   97.0\n",
      "4       Ethan        9.25   49.0\n",
      "5       Vicky        1.00    3.0\n",
      "6    Frederic       11.50   53.0\n",
      "7      Jimmie        9.00   42.0\n",
      "8      Rhonda        8.50   26.0\n",
      "9    Giovanni       14.50   74.0\n",
      "10  Francesca       15.50   82.0\n",
      "11      Rajab       13.75   62.0\n",
      "12    Naiyana        9.00   37.0\n",
      "13       Kian        8.00   15.0\n",
      "14      Jenny       15.50   70.0\n",
      "15     Jakeem        8.00   27.0\n",
      "16     Helena        9.00   36.0\n",
      "17      Ismat        6.00   35.0\n",
      "18      Anila       10.00   48.0\n",
      "19       Skye       12.00   52.0\n",
      "20     Daniel       12.50   63.0\n",
      "21      Aisha       12.00   64.0\n"
     ]
    }
   ],
   "source": [
    "# Introduce pandas\n",
    "# pandas is a library that provides data structures and data analysis tools for data manipulation and analysis\n",
    "# A Data frame is a two-dimensional data structure.\n",
    "# We can perform basic operations on rows/columns like selecting, deleting, adding, and renaming.\n",
    "import pandas as pd\n",
    "df_students = pd.DataFrame({'Name': ['Dan', 'Joann', 'Pedro', 'Rosie', 'Ethan', 'Vicky', 'Frederic', 'Jimmie', \n",
    "                                     'Rhonda', 'Giovanni', 'Francesca', 'Rajab', 'Naiyana', 'Kian', 'Jenny',\n",
    "                                     'Jakeem','Helena','Ismat','Anila','Skye','Daniel','Aisha'],\n",
    "                            'StudyHours':student_data[0],\n",
    "                            'Grade':student_data[1]})\n",
    "print(df_students) #data frame is a 2d data structure with rows and columns"
   ]
  }
 ],
 "metadata": {
  "kernelspec": {
   "display_name": "Python 3",
   "language": "python",
   "name": "python3"
  },
  "language_info": {
   "codemirror_mode": {
    "name": "ipython",
    "version": 3
   },
   "file_extension": ".py",
   "mimetype": "text/x-python",
   "name": "python",
   "nbconvert_exporter": "python",
   "pygments_lexer": "ipython3",
   "version": "3.12.6"
  }
 },
 "nbformat": 4,
 "nbformat_minor": 2
}
